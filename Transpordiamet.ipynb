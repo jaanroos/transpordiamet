{
 "cells": [
  {
   "cell_type": "code",
   "execution_count": 1,
   "id": "14f537b0",
   "metadata": {},
   "outputs": [],
   "source": [
    "import sqlite3\n",
    "import pandas as pd"
   ]
  },
  {
   "cell_type": "markdown",
   "id": "4c07a8ee",
   "metadata": {},
   "source": [
    "CSV failis oli vigasid - eraldatud koolonitega, osad read olid kahes tulbas, kuskil vales lahtris oli veel andmeid. Korrastasin faili enne üleslaadimist käsitsi."
   ]
  },
  {
   "cell_type": "code",
   "execution_count": 2,
   "id": "02ffa746",
   "metadata": {},
   "outputs": [],
   "source": [
    "#Xls faili laadimine ja dataframe loomine\n",
    "#CSV failis oli laadimist mittevõimaldavaid vigu, mida korrigeerisin excelis\n",
    "data = pd.read_excel(r'traffic_excel.xlsx')   \n",
    "df = pd.DataFrame(data)"
   ]
  },
  {
   "cell_type": "code",
   "execution_count": 3,
   "id": "b2104084",
   "metadata": {
    "scrolled": true
   },
   "outputs": [
    {
     "data": {
      "text/plain": [
       "Juhtumi nr                                        object\n",
       "Toimumisaeg                                       object\n",
       "Isikuid                                          float64\n",
       "Hukkunuid                                          int64\n",
       "Vigastatuid                                        int64\n",
       "Sõidukeid                                        float64\n",
       "Aadress (PPA)                                     object\n",
       "Maja nr (PPA)                                     object\n",
       "Tänav (PPA)                                       object\n",
       "Ristuv tänav (PPA)                                object\n",
       "Maakond (PPA)                                     object\n",
       "Omavalitsus (PPA)                                 object\n",
       "Asustus (PPA)                                     object\n",
       "Asula                                             object\n",
       "Liiklusõnnetuse liik [1]                          object\n",
       "Liiklusõnnetuse liik [3]                          object\n",
       "Kergliikurijuhi osalusel                         float64\n",
       "Jalakäija osalusel                               float64\n",
       "Kaassõitja osalusel                              float64\n",
       "Maastikusõiduki juhi osalusel                    float64\n",
       "Eaka (65+) mootorsõidukijuhi osalusel            float64\n",
       "Bussijuhi osalusel                               float64\n",
       "Veoautojuhi osalusel                             float64\n",
       "Ühissõidukijuhi osalusel                         float64\n",
       "Sõiduautojuhi osalusel                           float64\n",
       "Mootorratturi osalusel                           float64\n",
       "Mopeedijuhi osalusel                             float64\n",
       "Jalgratturi osalusel                             float64\n",
       "Alaealise osalusel                               float64\n",
       "Turvavarustust mitte kasutanud isiku osalusel    float64\n",
       "Esmase juhiloa omaniku osalusel                  float64\n",
       "Mootorsõidukijuhi osalusel                       float64\n",
       "Tüüpskeemi nr                                    float64\n",
       "Tüüpskeem [2]                                     object\n",
       "Tee tüüp [1]                                      object\n",
       "Tee tüüp [2]                                      object\n",
       "Tee element [1]                                   object\n",
       "Tee element [2]                                   object\n",
       "Tee objekt [2]                                    object\n",
       "Kurvilisus                                        object\n",
       "Tee tasasus                                       object\n",
       "Tee seisund                                       object\n",
       "Teekate                                           object\n",
       "Teekatte seisund [2]                              object\n",
       "Sõiduradade arv                                   object\n",
       "Lubatud sõidukiirus (PPA)                        float64\n",
       "Tee nr (PPA)                                     float64\n",
       "Tee km (PPA)                                     float64\n",
       "Ilmastik [1]                                      object\n",
       "Valgustus [1]                                     object\n",
       "Valgustus [2]                                     object\n",
       "GPS X                                            float64\n",
       "GPS Y                                            float64\n",
       "dtype: object"
      ]
     },
     "execution_count": 3,
     "metadata": {},
     "output_type": "execute_result"
    }
   ],
   "source": [
    "#Ülevaade tabelist\n",
    "df.dtypes"
   ]
  },
  {
   "cell_type": "code",
   "execution_count": 4,
   "id": "87f72247",
   "metadata": {},
   "outputs": [
    {
     "data": {
      "text/html": [
       "<div>\n",
       "<style scoped>\n",
       "    .dataframe tbody tr th:only-of-type {\n",
       "        vertical-align: middle;\n",
       "    }\n",
       "\n",
       "    .dataframe tbody tr th {\n",
       "        vertical-align: top;\n",
       "    }\n",
       "\n",
       "    .dataframe thead th {\n",
       "        text-align: right;\n",
       "    }\n",
       "</style>\n",
       "<table border=\"1\" class=\"dataframe\">\n",
       "  <thead>\n",
       "    <tr style=\"text-align: right;\">\n",
       "      <th></th>\n",
       "      <th>Juhtumi nr</th>\n",
       "      <th>Toimumisaeg</th>\n",
       "      <th>Isikuid</th>\n",
       "      <th>Hukkunuid</th>\n",
       "      <th>Vigastatuid</th>\n",
       "      <th>Sõidukeid</th>\n",
       "      <th>Aadress (PPA)</th>\n",
       "      <th>Maja nr (PPA)</th>\n",
       "      <th>Tänav (PPA)</th>\n",
       "      <th>Ristuv tänav (PPA)</th>\n",
       "      <th>...</th>\n",
       "      <th>Teekatte seisund [2]</th>\n",
       "      <th>Sõiduradade arv</th>\n",
       "      <th>Lubatud sõidukiirus (PPA)</th>\n",
       "      <th>Tee nr (PPA)</th>\n",
       "      <th>Tee km (PPA)</th>\n",
       "      <th>Ilmastik [1]</th>\n",
       "      <th>Valgustus [1]</th>\n",
       "      <th>Valgustus [2]</th>\n",
       "      <th>GPS X</th>\n",
       "      <th>GPS Y</th>\n",
       "    </tr>\n",
       "  </thead>\n",
       "  <tbody>\n",
       "    <tr>\n",
       "      <th>0</th>\n",
       "      <td>2000140000057</td>\n",
       "      <td>24.10.2014 08:45</td>\n",
       "      <td>2.0</td>\n",
       "      <td>0</td>\n",
       "      <td>1</td>\n",
       "      <td>1.0</td>\n",
       "      <td>Harju maakond Tallinn Kesklinna linnaosa Esto...</td>\n",
       "      <td>9</td>\n",
       "      <td>Estonia pst</td>\n",
       "      <td>NaN</td>\n",
       "      <td>...</td>\n",
       "      <td>Kuiv</td>\n",
       "      <td>NaN</td>\n",
       "      <td>50.0</td>\n",
       "      <td>NaN</td>\n",
       "      <td>NaN</td>\n",
       "      <td>Selged olud</td>\n",
       "      <td>Valge aeg</td>\n",
       "      <td>Valge aeg</td>\n",
       "      <td>6588678.0</td>\n",
       "      <td>542647.0</td>\n",
       "    </tr>\n",
       "    <tr>\n",
       "      <th>1</th>\n",
       "      <td>2000140000067</td>\n",
       "      <td>24.10.2014 13:45</td>\n",
       "      <td>2.0</td>\n",
       "      <td>0</td>\n",
       "      <td>1</td>\n",
       "      <td>2.0</td>\n",
       "      <td>Harju maakond Tallinn Põhja-Tallinna linnaosa...</td>\n",
       "      <td>NaN</td>\n",
       "      <td>Kopli tn</td>\n",
       "      <td>Telliskivi tn</td>\n",
       "      <td>...</td>\n",
       "      <td>Kuiv</td>\n",
       "      <td>NaN</td>\n",
       "      <td>30.0</td>\n",
       "      <td>NaN</td>\n",
       "      <td>NaN</td>\n",
       "      <td>Pilvised olud</td>\n",
       "      <td>Valge aeg</td>\n",
       "      <td>Valge aeg</td>\n",
       "      <td>6589522.0</td>\n",
       "      <td>541467.0</td>\n",
       "    </tr>\n",
       "    <tr>\n",
       "      <th>2</th>\n",
       "      <td>2000140000123</td>\n",
       "      <td>08.11.2014 15:10</td>\n",
       "      <td>2.0</td>\n",
       "      <td>0</td>\n",
       "      <td>1</td>\n",
       "      <td>2.0</td>\n",
       "      <td>Harju maakond Tallinn Pirita linnaosa Meriväl...</td>\n",
       "      <td>NaN</td>\n",
       "      <td>Merivälja tee</td>\n",
       "      <td>Mähe tee</td>\n",
       "      <td>...</td>\n",
       "      <td>Kuiv</td>\n",
       "      <td>NaN</td>\n",
       "      <td>50.0</td>\n",
       "      <td>NaN</td>\n",
       "      <td>NaN</td>\n",
       "      <td>Pilvised olud</td>\n",
       "      <td>Valge aeg</td>\n",
       "      <td>Valge aeg</td>\n",
       "      <td>6593961.0</td>\n",
       "      <td>547646.0</td>\n",
       "    </tr>\n",
       "    <tr>\n",
       "      <th>3</th>\n",
       "      <td>2000140000235</td>\n",
       "      <td>17.11.2014 17:32</td>\n",
       "      <td>2.0</td>\n",
       "      <td>0</td>\n",
       "      <td>2</td>\n",
       "      <td>2.0</td>\n",
       "      <td>Harju maakond Keila vald</td>\n",
       "      <td>NaN</td>\n",
       "      <td>KEILA - HAAPSALU</td>\n",
       "      <td>NaN</td>\n",
       "      <td>...</td>\n",
       "      <td>Kuiv</td>\n",
       "      <td>NaN</td>\n",
       "      <td>90.0</td>\n",
       "      <td>17.0</td>\n",
       "      <td>10.0</td>\n",
       "      <td>NaN</td>\n",
       "      <td>NaN</td>\n",
       "      <td>NaN</td>\n",
       "      <td>NaN</td>\n",
       "      <td>NaN</td>\n",
       "    </tr>\n",
       "    <tr>\n",
       "      <th>4</th>\n",
       "      <td>2000150000442</td>\n",
       "      <td>28.04.2015 07:55</td>\n",
       "      <td>2.0</td>\n",
       "      <td>0</td>\n",
       "      <td>1</td>\n",
       "      <td>2.0</td>\n",
       "      <td>Harju maakond Tallinn Kesklinna linnaosa Pärn...</td>\n",
       "      <td>123a</td>\n",
       "      <td>Pärnu mnt</td>\n",
       "      <td>NaN</td>\n",
       "      <td>...</td>\n",
       "      <td>Märg</td>\n",
       "      <td>NaN</td>\n",
       "      <td>50.0</td>\n",
       "      <td>NaN</td>\n",
       "      <td>NaN</td>\n",
       "      <td>Vihmasadu</td>\n",
       "      <td>Valge aeg</td>\n",
       "      <td>Valge aeg</td>\n",
       "      <td>6586430.0</td>\n",
       "      <td>541953.0</td>\n",
       "    </tr>\n",
       "  </tbody>\n",
       "</table>\n",
       "<p>5 rows × 53 columns</p>\n",
       "</div>"
      ],
      "text/plain": [
       "      Juhtumi nr       Toimumisaeg  Isikuid  Hukkunuid  Vigastatuid  \\\n",
       "0  2000140000057  24.10.2014 08:45      2.0          0            1   \n",
       "1  2000140000067  24.10.2014 13:45      2.0          0            1   \n",
       "2  2000140000123  08.11.2014 15:10      2.0          0            1   \n",
       "3  2000140000235  17.11.2014 17:32      2.0          0            2   \n",
       "4  2000150000442  28.04.2015 07:55      2.0          0            1   \n",
       "\n",
       "   Sõidukeid                                      Aadress (PPA) Maja nr (PPA)  \\\n",
       "0        1.0   Harju maakond Tallinn Kesklinna linnaosa Esto...             9   \n",
       "1        2.0   Harju maakond Tallinn Põhja-Tallinna linnaosa...           NaN   \n",
       "2        2.0   Harju maakond Tallinn Pirita linnaosa Meriväl...           NaN   \n",
       "3        2.0                         Harju maakond Keila vald             NaN   \n",
       "4        2.0   Harju maakond Tallinn Kesklinna linnaosa Pärn...          123a   \n",
       "\n",
       "        Tänav (PPA) Ristuv tänav (PPA)  ... Teekatte seisund [2]  \\\n",
       "0       Estonia pst                NaN  ...                 Kuiv   \n",
       "1          Kopli tn      Telliskivi tn  ...                 Kuiv   \n",
       "2     Merivälja tee           Mähe tee  ...                 Kuiv   \n",
       "3  KEILA - HAAPSALU                NaN  ...                 Kuiv   \n",
       "4         Pärnu mnt                NaN  ...                 Märg   \n",
       "\n",
       "  Sõiduradade arv Lubatud sõidukiirus (PPA) Tee nr (PPA) Tee km (PPA)  \\\n",
       "0             NaN                      50.0          NaN          NaN   \n",
       "1             NaN                      30.0          NaN          NaN   \n",
       "2             NaN                      50.0          NaN          NaN   \n",
       "3             NaN                      90.0         17.0         10.0   \n",
       "4             NaN                      50.0          NaN          NaN   \n",
       "\n",
       "    Ilmastik [1]  Valgustus [1]  Valgustus [2]      GPS X     GPS Y  \n",
       "0    Selged olud      Valge aeg      Valge aeg  6588678.0  542647.0  \n",
       "1  Pilvised olud      Valge aeg      Valge aeg  6589522.0  541467.0  \n",
       "2  Pilvised olud      Valge aeg      Valge aeg  6593961.0  547646.0  \n",
       "3            NaN            NaN            NaN        NaN       NaN  \n",
       "4      Vihmasadu      Valge aeg      Valge aeg  6586430.0  541953.0  \n",
       "\n",
       "[5 rows x 53 columns]"
      ]
     },
     "execution_count": 4,
     "metadata": {},
     "output_type": "execute_result"
    }
   ],
   "source": [
    "df.head(5)"
   ]
  },
  {
   "cell_type": "code",
   "execution_count": 5,
   "id": "cb2ab3f0",
   "metadata": {},
   "outputs": [
    {
     "data": {
      "text/html": [
       "<div>\n",
       "<style scoped>\n",
       "    .dataframe tbody tr th:only-of-type {\n",
       "        vertical-align: middle;\n",
       "    }\n",
       "\n",
       "    .dataframe tbody tr th {\n",
       "        vertical-align: top;\n",
       "    }\n",
       "\n",
       "    .dataframe thead th {\n",
       "        text-align: right;\n",
       "    }\n",
       "</style>\n",
       "<table border=\"1\" class=\"dataframe\">\n",
       "  <thead>\n",
       "    <tr style=\"text-align: right;\">\n",
       "      <th></th>\n",
       "      <th>Juhtumi nr</th>\n",
       "      <th>Toimumisaeg</th>\n",
       "      <th>Isikuid</th>\n",
       "      <th>Hukkunuid</th>\n",
       "      <th>Vigastatuid</th>\n",
       "      <th>Sõidukeid</th>\n",
       "      <th>Aadress (PPA)</th>\n",
       "      <th>Maja nr (PPA)</th>\n",
       "      <th>Tänav (PPA)</th>\n",
       "      <th>Ristuv tänav (PPA)</th>\n",
       "      <th>...</th>\n",
       "      <th>Teekatte seisund [2]</th>\n",
       "      <th>Sõiduradade arv</th>\n",
       "      <th>Lubatud sõidukiirus (PPA)</th>\n",
       "      <th>Tee nr (PPA)</th>\n",
       "      <th>Tee km (PPA)</th>\n",
       "      <th>Ilmastik [1]</th>\n",
       "      <th>Valgustus [1]</th>\n",
       "      <th>Valgustus [2]</th>\n",
       "      <th>GPS X</th>\n",
       "      <th>GPS Y</th>\n",
       "    </tr>\n",
       "  </thead>\n",
       "  <tbody>\n",
       "    <tr>\n",
       "      <th>15703</th>\n",
       "      <td>3140170029504</td>\n",
       "      <td>21.05.2017 09:35</td>\n",
       "      <td>3.0</td>\n",
       "      <td>0</td>\n",
       "      <td>1</td>\n",
       "      <td>2.0</td>\n",
       "      <td>Pärnu maakond VANA Audru vald Jõõpre küla</td>\n",
       "      <td>NaN</td>\n",
       "      <td>AUDRU - LAVASSAARE - VAHENURME</td>\n",
       "      <td>NaN</td>\n",
       "      <td>...</td>\n",
       "      <td>Kuiv</td>\n",
       "      <td>2</td>\n",
       "      <td>90.0</td>\n",
       "      <td>19103.0</td>\n",
       "      <td>7.0</td>\n",
       "      <td>Selged olud</td>\n",
       "      <td>Valge aeg</td>\n",
       "      <td>Valge aeg</td>\n",
       "      <td>6480481.0</td>\n",
       "      <td>519847.0</td>\n",
       "    </tr>\n",
       "    <tr>\n",
       "      <th>15704</th>\n",
       "      <td>3140170029565</td>\n",
       "      <td>21.05.2017 13:50</td>\n",
       "      <td>2.0</td>\n",
       "      <td>0</td>\n",
       "      <td>1</td>\n",
       "      <td>3.0</td>\n",
       "      <td>Rapla maakond Märjamaa vald Konuvere küla</td>\n",
       "      <td>NaN</td>\n",
       "      <td>NaN</td>\n",
       "      <td>NaN</td>\n",
       "      <td>...</td>\n",
       "      <td>Kuiv</td>\n",
       "      <td>2</td>\n",
       "      <td>90.0</td>\n",
       "      <td>NaN</td>\n",
       "      <td>NaN</td>\n",
       "      <td>Madal vastu paistev päike</td>\n",
       "      <td>Valge aeg</td>\n",
       "      <td>Valge aeg</td>\n",
       "      <td>6519056.0</td>\n",
       "      <td>524082.0</td>\n",
       "    </tr>\n",
       "    <tr>\n",
       "      <th>15705</th>\n",
       "      <td>3140170029903</td>\n",
       "      <td>22.05.2017 18:29</td>\n",
       "      <td>1.0</td>\n",
       "      <td>0</td>\n",
       "      <td>1</td>\n",
       "      <td>1.0</td>\n",
       "      <td>Harju maakond Nissi vald Jaanika küla</td>\n",
       "      <td>NaN</td>\n",
       "      <td>ÄÄSMÄE - HAAPSALU - ROHUKÜLA</td>\n",
       "      <td>NaN</td>\n",
       "      <td>...</td>\n",
       "      <td>Kuiv</td>\n",
       "      <td>NaN</td>\n",
       "      <td>90.0</td>\n",
       "      <td>9.0</td>\n",
       "      <td>14.0</td>\n",
       "      <td>Selged olud</td>\n",
       "      <td>Valge aeg</td>\n",
       "      <td>Valge aeg</td>\n",
       "      <td>6558038.0</td>\n",
       "      <td>519643.0</td>\n",
       "    </tr>\n",
       "    <tr>\n",
       "      <th>15706</th>\n",
       "      <td>3140170029934</td>\n",
       "      <td>22.05.2017 20:02</td>\n",
       "      <td>2.0</td>\n",
       "      <td>0</td>\n",
       "      <td>2</td>\n",
       "      <td>2.0</td>\n",
       "      <td>Tartu maakond Tartu linn Tartu linn Riia tn</td>\n",
       "      <td>126</td>\n",
       "      <td>Riia tn</td>\n",
       "      <td>Sanatooriumi tn</td>\n",
       "      <td>...</td>\n",
       "      <td>Kuiv</td>\n",
       "      <td>NaN</td>\n",
       "      <td>50.0</td>\n",
       "      <td>NaN</td>\n",
       "      <td>NaN</td>\n",
       "      <td>Selged olud</td>\n",
       "      <td>Valge aeg</td>\n",
       "      <td>Valge aeg</td>\n",
       "      <td>NaN</td>\n",
       "      <td>NaN</td>\n",
       "    </tr>\n",
       "    <tr>\n",
       "      <th>15707</th>\n",
       "      <td>POLE180000018</td>\n",
       "      <td>16.04.2018 16:20</td>\n",
       "      <td>3.0</td>\n",
       "      <td>0</td>\n",
       "      <td>2</td>\n",
       "      <td>2.0</td>\n",
       "      <td>Viljandi maakond Viljandi linn  Reinu tee</td>\n",
       "      <td>29</td>\n",
       "      <td>Reinu tee</td>\n",
       "      <td>NaN</td>\n",
       "      <td>...</td>\n",
       "      <td>Kuiv</td>\n",
       "      <td>NaN</td>\n",
       "      <td>50.0</td>\n",
       "      <td>NaN</td>\n",
       "      <td>NaN</td>\n",
       "      <td>Selged olud</td>\n",
       "      <td>Valge aeg</td>\n",
       "      <td>Valge aeg</td>\n",
       "      <td>6469176.0</td>\n",
       "      <td>592110.0</td>\n",
       "    </tr>\n",
       "  </tbody>\n",
       "</table>\n",
       "<p>5 rows × 53 columns</p>\n",
       "</div>"
      ],
      "text/plain": [
       "          Juhtumi nr       Toimumisaeg  Isikuid  Hukkunuid  Vigastatuid  \\\n",
       "15703  3140170029504  21.05.2017 09:35      3.0          0            1   \n",
       "15704  3140170029565  21.05.2017 13:50      2.0          0            1   \n",
       "15705  3140170029903  22.05.2017 18:29      1.0          0            1   \n",
       "15706  3140170029934  22.05.2017 20:02      2.0          0            2   \n",
       "15707  POLE180000018  16.04.2018 16:20      3.0          0            2   \n",
       "\n",
       "       Sõidukeid                                 Aadress (PPA) Maja nr (PPA)  \\\n",
       "15703        2.0    Pärnu maakond VANA Audru vald Jõõpre küla            NaN   \n",
       "15704        3.0    Rapla maakond Märjamaa vald Konuvere küla            NaN   \n",
       "15705        1.0        Harju maakond Nissi vald Jaanika küla            NaN   \n",
       "15706        2.0   Tartu maakond Tartu linn Tartu linn Riia tn           126   \n",
       "15707        2.0     Viljandi maakond Viljandi linn  Reinu tee            29   \n",
       "\n",
       "                          Tänav (PPA) Ristuv tänav (PPA)  ...  \\\n",
       "15703  AUDRU - LAVASSAARE - VAHENURME                NaN  ...   \n",
       "15704                             NaN                NaN  ...   \n",
       "15705    ÄÄSMÄE - HAAPSALU - ROHUKÜLA                NaN  ...   \n",
       "15706                         Riia tn    Sanatooriumi tn  ...   \n",
       "15707                       Reinu tee                NaN  ...   \n",
       "\n",
       "      Teekatte seisund [2] Sõiduradade arv Lubatud sõidukiirus (PPA)  \\\n",
       "15703                 Kuiv               2                      90.0   \n",
       "15704                 Kuiv               2                      90.0   \n",
       "15705                 Kuiv             NaN                      90.0   \n",
       "15706                 Kuiv             NaN                      50.0   \n",
       "15707                 Kuiv             NaN                      50.0   \n",
       "\n",
       "      Tee nr (PPA) Tee km (PPA)               Ilmastik [1]  Valgustus [1]  \\\n",
       "15703      19103.0          7.0                Selged olud      Valge aeg   \n",
       "15704          NaN          NaN  Madal vastu paistev päike      Valge aeg   \n",
       "15705          9.0         14.0                Selged olud      Valge aeg   \n",
       "15706          NaN          NaN                Selged olud      Valge aeg   \n",
       "15707          NaN          NaN                Selged olud      Valge aeg   \n",
       "\n",
       "       Valgustus [2]      GPS X     GPS Y  \n",
       "15703      Valge aeg  6480481.0  519847.0  \n",
       "15704      Valge aeg  6519056.0  524082.0  \n",
       "15705      Valge aeg  6558038.0  519643.0  \n",
       "15706      Valge aeg        NaN       NaN  \n",
       "15707      Valge aeg  6469176.0  592110.0  \n",
       "\n",
       "[5 rows x 53 columns]"
      ]
     },
     "execution_count": 5,
     "metadata": {},
     "output_type": "execute_result"
    }
   ],
   "source": [
    "df.tail(5)\n"
   ]
  },
  {
   "cell_type": "code",
   "execution_count": 6,
   "id": "d475a890",
   "metadata": {},
   "outputs": [
    {
     "data": {
      "text/plain": [
       "2.0     8446\n",
       "1.0     4608\n",
       "3.0     1584\n",
       "4.0      471\n",
       "0.0      198\n",
       "5.0      186\n",
       "NaN       75\n",
       "6.0       66\n",
       "7.0       34\n",
       "8.0       13\n",
       "9.0        7\n",
       "10.0       7\n",
       "11.0       3\n",
       "13.0       3\n",
       "24.0       2\n",
       "14.0       2\n",
       "19.0       1\n",
       "15.0       1\n",
       "22.0       1\n",
       "Name: Isikuid, dtype: int64"
      ]
     },
     "execution_count": 6,
     "metadata": {},
     "output_type": "execute_result"
    }
   ],
   "source": [
    "#Kontroll, et poleks puuduvaid väärtuseid\n",
    "df['Isikuid'].value_counts(dropna=False)\n"
   ]
  },
  {
   "cell_type": "markdown",
   "id": "23e70a77",
   "metadata": {},
   "source": [
    "Isikuid NaN asendan ühega, kuna NaN ridu vaadates selgub, et kõikidel juhtudel on üks kannatanu"
   ]
  },
  {
   "cell_type": "code",
   "execution_count": 7,
   "id": "5f92b345",
   "metadata": {},
   "outputs": [
    {
     "data": {
      "text/plain": [
       "2.0     8448\n",
       "1.0     4680\n",
       "3.0     1585\n",
       "4.0      471\n",
       "0.0      198\n",
       "5.0      186\n",
       "6.0       66\n",
       "7.0       34\n",
       "8.0       13\n",
       "9.0        7\n",
       "10.0       7\n",
       "11.0       3\n",
       "13.0       3\n",
       "24.0       2\n",
       "14.0       2\n",
       "15.0       1\n",
       "19.0       1\n",
       "22.0       1\n",
       "Name: Isikuid, dtype: int64"
      ]
     },
     "execution_count": 7,
     "metadata": {},
     "output_type": "execute_result"
    }
   ],
   "source": [
    "df['Isikuid'] = df['Isikuid'].fillna(df['Vigastatuid'])\n",
    "df['Isikuid'].value_counts(dropna=False)"
   ]
  },
  {
   "cell_type": "code",
   "execution_count": 8,
   "id": "2d82cddb",
   "metadata": {},
   "outputs": [],
   "source": [
    "#Tulba tüübi muutmine\n",
    "df['Isikuid']=df['Isikuid'].astype(int)\n"
   ]
  },
  {
   "cell_type": "code",
   "execution_count": 9,
   "id": "fe43c14a",
   "metadata": {},
   "outputs": [],
   "source": [
    "#Täpitähe eemaldamine tulba nimest\n",
    "df.rename(columns = {'Sõidukeid':'Soidukeid'}, inplace = True)"
   ]
  },
  {
   "cell_type": "code",
   "execution_count": 11,
   "id": "5b2f2db4",
   "metadata": {},
   "outputs": [
    {
     "data": {
      "text/plain": [
       "2     8448\n",
       "1     4680\n",
       "3     1585\n",
       "4      471\n",
       "0      198\n",
       "5      186\n",
       "6       66\n",
       "7       34\n",
       "8       13\n",
       "9        7\n",
       "10       7\n",
       "11       3\n",
       "13       3\n",
       "24       2\n",
       "14       2\n",
       "15       1\n",
       "19       1\n",
       "22       1\n",
       "Name: Isikuid, dtype: int64"
      ]
     },
     "execution_count": 11,
     "metadata": {},
     "output_type": "execute_result"
    }
   ],
   "source": [
    "#Tulba kontroll\n",
    "df['Isikuid'].value_counts(dropna=False)\n"
   ]
  },
  {
   "cell_type": "code",
   "execution_count": 12,
   "id": "40849711",
   "metadata": {},
   "outputs": [
    {
     "data": {
      "text/plain": [
       "0    14997\n",
       "1      669\n",
       "2       31\n",
       "3        9\n",
       "4        2\n",
       "Name: Hukkunuid, dtype: int64"
      ]
     },
     "execution_count": 12,
     "metadata": {},
     "output_type": "execute_result"
    }
   ],
   "source": [
    "# Hukkunute tulba kontroll\n",
    "df['Hukkunuid'].value_counts(dropna=False)"
   ]
  },
  {
   "cell_type": "code",
   "execution_count": 20,
   "id": "4cf696a6",
   "metadata": {},
   "outputs": [
    {
     "name": "stderr",
     "output_type": "stream",
     "text": [
      "C:\\Users\\jaanr\\AppData\\Local\\Temp\\ipykernel_4940\\3973010998.py:3: FutureWarning: Treating datetime data as categorical rather than numeric in `.describe` is deprecated and will be removed in a future version of pandas. Specify `datetime_is_numeric=True` to silence this warning and adopt the future behavior now.\n",
      "  df['Toimumisaeg'].describe()\n"
     ]
    },
    {
     "data": {
      "text/plain": [
       "count                   15708\n",
       "unique                  15640\n",
       "top       2018-04-20 12:00:00\n",
       "freq                        3\n",
       "first     2011-01-01 02:55:00\n",
       "last      2021-12-31 23:45:00\n",
       "Name: Toimumisaeg, dtype: object"
      ]
     },
     "execution_count": 20,
     "metadata": {},
     "output_type": "execute_result"
    }
   ],
   "source": [
    "#Toimumisaja formaadi muutmine objectist ajaks\n",
    "df['Toimumisaeg'] = pd.to_datetime(df['Toimumisaeg'])\n",
    "df['Toimumisaeg'].describe()"
   ]
  },
  {
   "cell_type": "code",
   "execution_count": 21,
   "id": "dc1ee003",
   "metadata": {},
   "outputs": [
    {
     "data": {
      "text/html": [
       "<div>\n",
       "<style scoped>\n",
       "    .dataframe tbody tr th:only-of-type {\n",
       "        vertical-align: middle;\n",
       "    }\n",
       "\n",
       "    .dataframe tbody tr th {\n",
       "        vertical-align: top;\n",
       "    }\n",
       "\n",
       "    .dataframe thead th {\n",
       "        text-align: right;\n",
       "    }\n",
       "</style>\n",
       "<table border=\"1\" class=\"dataframe\">\n",
       "  <thead>\n",
       "    <tr style=\"text-align: right;\">\n",
       "      <th></th>\n",
       "      <th>Juhtumi nr</th>\n",
       "      <th>Toimumisaeg</th>\n",
       "      <th>Isikuid</th>\n",
       "      <th>Hukkunuid</th>\n",
       "      <th>Vigastatuid</th>\n",
       "      <th>Soidukeid</th>\n",
       "      <th>Aadress (PPA)</th>\n",
       "      <th>Maja nr (PPA)</th>\n",
       "      <th>Tänav (PPA)</th>\n",
       "      <th>Ristuv tänav (PPA)</th>\n",
       "      <th>...</th>\n",
       "      <th>Teekatte seisund [2]</th>\n",
       "      <th>Sõiduradade arv</th>\n",
       "      <th>Lubatud sõidukiirus (PPA)</th>\n",
       "      <th>Tee nr (PPA)</th>\n",
       "      <th>Tee km (PPA)</th>\n",
       "      <th>Ilmastik [1]</th>\n",
       "      <th>Valgustus [1]</th>\n",
       "      <th>Valgustus [2]</th>\n",
       "      <th>GPS X</th>\n",
       "      <th>GPS Y</th>\n",
       "    </tr>\n",
       "  </thead>\n",
       "  <tbody>\n",
       "    <tr>\n",
       "      <th>0</th>\n",
       "      <td>2000140000057</td>\n",
       "      <td>2014-10-24 08:45:00</td>\n",
       "      <td>2</td>\n",
       "      <td>0</td>\n",
       "      <td>1</td>\n",
       "      <td>1.0</td>\n",
       "      <td>Harju maakond Tallinn Kesklinna linnaosa Esto...</td>\n",
       "      <td>9</td>\n",
       "      <td>Estonia pst</td>\n",
       "      <td>NaN</td>\n",
       "      <td>...</td>\n",
       "      <td>Kuiv</td>\n",
       "      <td>NaN</td>\n",
       "      <td>50.0</td>\n",
       "      <td>NaN</td>\n",
       "      <td>NaN</td>\n",
       "      <td>Selged olud</td>\n",
       "      <td>Valge aeg</td>\n",
       "      <td>Valge aeg</td>\n",
       "      <td>6588678.0</td>\n",
       "      <td>542647.0</td>\n",
       "    </tr>\n",
       "    <tr>\n",
       "      <th>1</th>\n",
       "      <td>2000140000067</td>\n",
       "      <td>2014-10-24 13:45:00</td>\n",
       "      <td>2</td>\n",
       "      <td>0</td>\n",
       "      <td>1</td>\n",
       "      <td>2.0</td>\n",
       "      <td>Harju maakond Tallinn Põhja-Tallinna linnaosa...</td>\n",
       "      <td>NaN</td>\n",
       "      <td>Kopli tn</td>\n",
       "      <td>Telliskivi tn</td>\n",
       "      <td>...</td>\n",
       "      <td>Kuiv</td>\n",
       "      <td>NaN</td>\n",
       "      <td>30.0</td>\n",
       "      <td>NaN</td>\n",
       "      <td>NaN</td>\n",
       "      <td>Pilvised olud</td>\n",
       "      <td>Valge aeg</td>\n",
       "      <td>Valge aeg</td>\n",
       "      <td>6589522.0</td>\n",
       "      <td>541467.0</td>\n",
       "    </tr>\n",
       "    <tr>\n",
       "      <th>2</th>\n",
       "      <td>2000140000123</td>\n",
       "      <td>2014-08-11 15:10:00</td>\n",
       "      <td>2</td>\n",
       "      <td>0</td>\n",
       "      <td>1</td>\n",
       "      <td>2.0</td>\n",
       "      <td>Harju maakond Tallinn Pirita linnaosa Meriväl...</td>\n",
       "      <td>NaN</td>\n",
       "      <td>Merivälja tee</td>\n",
       "      <td>Mähe tee</td>\n",
       "      <td>...</td>\n",
       "      <td>Kuiv</td>\n",
       "      <td>NaN</td>\n",
       "      <td>50.0</td>\n",
       "      <td>NaN</td>\n",
       "      <td>NaN</td>\n",
       "      <td>Pilvised olud</td>\n",
       "      <td>Valge aeg</td>\n",
       "      <td>Valge aeg</td>\n",
       "      <td>6593961.0</td>\n",
       "      <td>547646.0</td>\n",
       "    </tr>\n",
       "    <tr>\n",
       "      <th>3</th>\n",
       "      <td>2000140000235</td>\n",
       "      <td>2014-11-17 17:32:00</td>\n",
       "      <td>2</td>\n",
       "      <td>0</td>\n",
       "      <td>2</td>\n",
       "      <td>2.0</td>\n",
       "      <td>Harju maakond Keila vald</td>\n",
       "      <td>NaN</td>\n",
       "      <td>KEILA - HAAPSALU</td>\n",
       "      <td>NaN</td>\n",
       "      <td>...</td>\n",
       "      <td>Kuiv</td>\n",
       "      <td>NaN</td>\n",
       "      <td>90.0</td>\n",
       "      <td>17.0</td>\n",
       "      <td>10.0</td>\n",
       "      <td>NaN</td>\n",
       "      <td>NaN</td>\n",
       "      <td>NaN</td>\n",
       "      <td>NaN</td>\n",
       "      <td>NaN</td>\n",
       "    </tr>\n",
       "    <tr>\n",
       "      <th>4</th>\n",
       "      <td>2000150000442</td>\n",
       "      <td>2015-04-28 07:55:00</td>\n",
       "      <td>2</td>\n",
       "      <td>0</td>\n",
       "      <td>1</td>\n",
       "      <td>2.0</td>\n",
       "      <td>Harju maakond Tallinn Kesklinna linnaosa Pärn...</td>\n",
       "      <td>123a</td>\n",
       "      <td>Pärnu mnt</td>\n",
       "      <td>NaN</td>\n",
       "      <td>...</td>\n",
       "      <td>Märg</td>\n",
       "      <td>NaN</td>\n",
       "      <td>50.0</td>\n",
       "      <td>NaN</td>\n",
       "      <td>NaN</td>\n",
       "      <td>Vihmasadu</td>\n",
       "      <td>Valge aeg</td>\n",
       "      <td>Valge aeg</td>\n",
       "      <td>6586430.0</td>\n",
       "      <td>541953.0</td>\n",
       "    </tr>\n",
       "  </tbody>\n",
       "</table>\n",
       "<p>5 rows × 53 columns</p>\n",
       "</div>"
      ],
      "text/plain": [
       "      Juhtumi nr         Toimumisaeg  Isikuid  Hukkunuid  Vigastatuid  \\\n",
       "0  2000140000057 2014-10-24 08:45:00        2          0            1   \n",
       "1  2000140000067 2014-10-24 13:45:00        2          0            1   \n",
       "2  2000140000123 2014-08-11 15:10:00        2          0            1   \n",
       "3  2000140000235 2014-11-17 17:32:00        2          0            2   \n",
       "4  2000150000442 2015-04-28 07:55:00        2          0            1   \n",
       "\n",
       "   Soidukeid                                      Aadress (PPA) Maja nr (PPA)  \\\n",
       "0        1.0   Harju maakond Tallinn Kesklinna linnaosa Esto...             9   \n",
       "1        2.0   Harju maakond Tallinn Põhja-Tallinna linnaosa...           NaN   \n",
       "2        2.0   Harju maakond Tallinn Pirita linnaosa Meriväl...           NaN   \n",
       "3        2.0                         Harju maakond Keila vald             NaN   \n",
       "4        2.0   Harju maakond Tallinn Kesklinna linnaosa Pärn...          123a   \n",
       "\n",
       "        Tänav (PPA) Ristuv tänav (PPA)  ... Teekatte seisund [2]  \\\n",
       "0       Estonia pst                NaN  ...                 Kuiv   \n",
       "1          Kopli tn      Telliskivi tn  ...                 Kuiv   \n",
       "2     Merivälja tee           Mähe tee  ...                 Kuiv   \n",
       "3  KEILA - HAAPSALU                NaN  ...                 Kuiv   \n",
       "4         Pärnu mnt                NaN  ...                 Märg   \n",
       "\n",
       "  Sõiduradade arv Lubatud sõidukiirus (PPA) Tee nr (PPA) Tee km (PPA)  \\\n",
       "0             NaN                      50.0          NaN          NaN   \n",
       "1             NaN                      30.0          NaN          NaN   \n",
       "2             NaN                      50.0          NaN          NaN   \n",
       "3             NaN                      90.0         17.0         10.0   \n",
       "4             NaN                      50.0          NaN          NaN   \n",
       "\n",
       "    Ilmastik [1]  Valgustus [1]  Valgustus [2]      GPS X     GPS Y  \n",
       "0    Selged olud      Valge aeg      Valge aeg  6588678.0  542647.0  \n",
       "1  Pilvised olud      Valge aeg      Valge aeg  6589522.0  541467.0  \n",
       "2  Pilvised olud      Valge aeg      Valge aeg  6593961.0  547646.0  \n",
       "3            NaN            NaN            NaN        NaN       NaN  \n",
       "4      Vihmasadu      Valge aeg      Valge aeg  6586430.0  541953.0  \n",
       "\n",
       "[5 rows x 53 columns]"
      ]
     },
     "execution_count": 21,
     "metadata": {},
     "output_type": "execute_result"
    }
   ],
   "source": [
    "df.head(5)\n"
   ]
  },
  {
   "cell_type": "code",
   "execution_count": 22,
   "id": "b0a2405b",
   "metadata": {},
   "outputs": [
    {
     "data": {
      "text/plain": [
       "0        2014\n",
       "1        2014\n",
       "2        2014\n",
       "3        2014\n",
       "4        2015\n",
       "         ... \n",
       "15703    2017\n",
       "15704    2017\n",
       "15705    2017\n",
       "15706    2017\n",
       "15707    2018\n",
       "Name: Aasta, Length: 15708, dtype: object"
      ]
     },
     "execution_count": 22,
     "metadata": {},
     "output_type": "execute_result"
    }
   ],
   "source": [
    "#Jooniste jaoks lisan aasta tulba\n",
    "df['Aasta'] = df['Toimumisaeg'].dt.strftime('%Y')\n",
    "df['Aasta']"
   ]
  },
  {
   "cell_type": "code",
   "execution_count": 23,
   "id": "abd72843",
   "metadata": {},
   "outputs": [
    {
     "data": {
      "text/html": [
       "<div>\n",
       "<style scoped>\n",
       "    .dataframe tbody tr th:only-of-type {\n",
       "        vertical-align: middle;\n",
       "    }\n",
       "\n",
       "    .dataframe tbody tr th {\n",
       "        vertical-align: top;\n",
       "    }\n",
       "\n",
       "    .dataframe thead th {\n",
       "        text-align: right;\n",
       "    }\n",
       "</style>\n",
       "<table border=\"1\" class=\"dataframe\">\n",
       "  <thead>\n",
       "    <tr style=\"text-align: right;\">\n",
       "      <th></th>\n",
       "      <th>Juhtumi nr</th>\n",
       "      <th>Hukkunuid</th>\n",
       "      <th>Vigastatuid</th>\n",
       "    </tr>\n",
       "    <tr>\n",
       "      <th>Aasta</th>\n",
       "      <th></th>\n",
       "      <th></th>\n",
       "      <th></th>\n",
       "    </tr>\n",
       "  </thead>\n",
       "  <tbody>\n",
       "    <tr>\n",
       "      <th>2011</th>\n",
       "      <td>1449</td>\n",
       "      <td>99</td>\n",
       "      <td>1788</td>\n",
       "    </tr>\n",
       "    <tr>\n",
       "      <th>2012</th>\n",
       "      <td>1358</td>\n",
       "      <td>86</td>\n",
       "      <td>1656</td>\n",
       "    </tr>\n",
       "    <tr>\n",
       "      <th>2013</th>\n",
       "      <td>1361</td>\n",
       "      <td>83</td>\n",
       "      <td>1672</td>\n",
       "    </tr>\n",
       "    <tr>\n",
       "      <th>2014</th>\n",
       "      <td>1404</td>\n",
       "      <td>80</td>\n",
       "      <td>1705</td>\n",
       "    </tr>\n",
       "    <tr>\n",
       "      <th>2015</th>\n",
       "      <td>1374</td>\n",
       "      <td>66</td>\n",
       "      <td>1725</td>\n",
       "    </tr>\n",
       "    <tr>\n",
       "      <th>2016</th>\n",
       "      <td>1464</td>\n",
       "      <td>71</td>\n",
       "      <td>1842</td>\n",
       "    </tr>\n",
       "    <tr>\n",
       "      <th>2017</th>\n",
       "      <td>1414</td>\n",
       "      <td>48</td>\n",
       "      <td>1734</td>\n",
       "    </tr>\n",
       "    <tr>\n",
       "      <th>2018</th>\n",
       "      <td>1474</td>\n",
       "      <td>67</td>\n",
       "      <td>1837</td>\n",
       "    </tr>\n",
       "    <tr>\n",
       "      <th>2019</th>\n",
       "      <td>1439</td>\n",
       "      <td>52</td>\n",
       "      <td>1767</td>\n",
       "    </tr>\n",
       "    <tr>\n",
       "      <th>2020</th>\n",
       "      <td>1406</td>\n",
       "      <td>59</td>\n",
       "      <td>1617</td>\n",
       "    </tr>\n",
       "    <tr>\n",
       "      <th>2021</th>\n",
       "      <td>1565</td>\n",
       "      <td>55</td>\n",
       "      <td>1764</td>\n",
       "    </tr>\n",
       "  </tbody>\n",
       "</table>\n",
       "</div>"
      ],
      "text/plain": [
       "       Juhtumi nr  Hukkunuid  Vigastatuid\n",
       "Aasta                                    \n",
       "2011         1449         99         1788\n",
       "2012         1358         86         1656\n",
       "2013         1361         83         1672\n",
       "2014         1404         80         1705\n",
       "2015         1374         66         1725\n",
       "2016         1464         71         1842\n",
       "2017         1414         48         1734\n",
       "2018         1474         67         1837\n",
       "2019         1439         52         1767\n",
       "2020         1406         59         1617\n",
       "2021         1565         55         1764"
      ]
     },
     "execution_count": 23,
     "metadata": {},
     "output_type": "execute_result"
    }
   ],
   "source": [
    "#Teen lisatabeli jooniste jaoks\n",
    "accident_year=df.groupby(df['Aasta'])['Juhtumi nr'].count()\n",
    "hukkunuid=df.groupby(df['Aasta'])['Hukkunuid'].sum()\n",
    "vigastatuid=df.groupby(df['Aasta'])['Vigastatuid'].sum()\n",
    "joonis=pd.concat([accident_year,hukkunuid,vigastatuid],axis=1)\n",
    "joonis"
   ]
  },
  {
   "cell_type": "code",
   "execution_count": 24,
   "id": "c458a57c",
   "metadata": {},
   "outputs": [
    {
     "data": {
      "text/plain": [
       "<Axes: xlabel='Aasta'>"
      ]
     },
     "execution_count": 24,
     "metadata": {},
     "output_type": "execute_result"
    },
    {
     "data": {
      "image/png": "[encoded data removed]",
      "text/plain": [
       "<Figure size 640x480 with 1 Axes>"
      ]
     },
     "metadata": {},
     "output_type": "display_data"
    }
   ],
   "source": [
    "import seaborn as sns\n",
    "import matplotlib.pyplot as plt\n",
    "sns.lineplot(data=joonis[['Juhtumi nr','Vigastatuid']])"
   ]
  },
  {
   "cell_type": "code",
   "execution_count": 25,
   "id": "0def0d20",
   "metadata": {},
   "outputs": [
    {
     "data": {
      "text/plain": [
       "<Axes: xlabel='Aasta'>"
      ]
     },
     "execution_count": 25,
     "metadata": {},
     "output_type": "execute_result"
    },
    {
     "data": {
      "image/png": "[encoded data removed]",
      "text/plain": [
       "<Figure size 640x480 with 1 Axes>"
      ]
     },
     "metadata": {},
     "output_type": "display_data"
    }
   ],
   "source": [
    "sns.lineplot(data=joonis[['Hukkunuid']])"
   ]
  },
  {
   "cell_type": "code",
   "execution_count": 26,
   "id": "425c2f9c",
   "metadata": {},
   "outputs": [
    {
     "data": {
      "text/plain": [
       "<Axes: xlabel='Lubatud sõidukiirus (PPA)', ylabel='Hukkunuid'>"
      ]
     },
     "execution_count": 26,
     "metadata": {},
     "output_type": "execute_result"
    },
    {
     "data": {
      "image/png": "[encoded data removed]",
      "text/plain": [
       "<Figure size 640x480 with 1 Axes>"
      ]
     },
     "metadata": {},
     "output_type": "display_data"
    }
   ],
   "source": [
    "#Mõni lisatabel, et näha seoseid\n",
    "sns.scatterplot(data = df, x = \"Lubatud sõidukiirus (PPA)\", y = \"Hukkunuid\")"
   ]
  },
  {
   "cell_type": "code",
   "execution_count": 27,
   "id": "6702fb55",
   "metadata": {},
   "outputs": [
    {
     "data": {
      "text/plain": [
       "50.0     7710\n",
       "90.0     3563\n",
       "70.0      798\n",
       "30.0      676\n",
       "20.0      443\n",
       "40.0      205\n",
       "110.0     119\n",
       "60.0       54\n",
       "100.0      30\n",
       "10.0       19\n",
       "80.0       10\n",
       "25.0        6\n",
       "45.0        5\n",
       "5.0         5\n",
       "0.0         2\n",
       "120.0       2\n",
       "15.0        1\n",
       "Name: Lubatud sõidukiirus (PPA), dtype: int64"
      ]
     },
     "execution_count": 27,
     "metadata": {},
     "output_type": "execute_result"
    }
   ],
   "source": [
    "#Andmetes on sõidukiirus vigame, asendame selle\n",
    "df[\"Lubatud sõidukiirus (PPA)\"]=df[\"Lubatud sõidukiirus (PPA)\"].replace(901,90)\n",
    "df[\"Lubatud sõidukiirus (PPA)\"].value_counts()"
   ]
  },
  {
   "cell_type": "code",
   "execution_count": 29,
   "id": "d3d22983",
   "metadata": {},
   "outputs": [
    {
     "data": {
      "text/plain": [
       "<Axes: xlabel='Lubatud sõidukiirus (PPA)', ylabel='Hukkunuid'>"
      ]
     },
     "execution_count": 29,
     "metadata": {},
     "output_type": "execute_result"
    },
    {
     "data": {
      "image/png": "[encoded data removed]",
      "text/plain": [
       "<Figure size 640x480 with 1 Axes>"
      ]
     },
     "metadata": {},
     "output_type": "display_data"
    }
   ],
   "source": [
    "sns.barplot(data = df, x=\"Lubatud sõidukiirus (PPA)\", y=\"Hukkunuid\", estimator=sum )"
   ]
  },
  {
   "cell_type": "code",
   "execution_count": 30,
   "id": "5d8b2ec2",
   "metadata": {},
   "outputs": [
    {
     "data": {
      "image/png": "[encoded data removed]",
      "text/plain": [
       "<Figure size 1600x400 with 1 Axes>"
      ]
     },
     "metadata": {},
     "output_type": "display_data"
    }
   ],
   "source": [
    "# Kas ilmastik mõjutab?\n",
    "sns.set(rc={\"figure.figsize\":(16, 4)})\n",
    "sns.barplot(data = df, x=\"Ilmastik [1]\", y=\"Hukkunuid\", estimator=sum )\n",
    "plt.show()"
   ]
  },
  {
   "cell_type": "code",
   "execution_count": 31,
   "id": "b3b982c2",
   "metadata": {},
   "outputs": [
    {
     "data": {
      "image/png": "[encoded data removed]",
      "text/plain": [
       "<Figure size 1300x400 with 1 Axes>"
      ]
     },
     "metadata": {},
     "output_type": "display_data"
    }
   ],
   "source": [
    "#Millistes õnnetustes on hukkunud?\n",
    "sns.set(rc={\"figure.figsize\":(13, 4)})\n",
    "sns.barplot(data = df, x=\"Liiklusõnnetuse liik [1]\", y=\"Hukkunuid\", estimator=sum)\n",
    "plt.show()\n",
    "\n"
   ]
  },
  {
   "cell_type": "code",
   "execution_count": 32,
   "id": "f3ff0081",
   "metadata": {},
   "outputs": [],
   "source": [
    "#Teen uue csv faili ja ekspordin selle\n",
    "df.to_csv('traffic_edit.csv')"
   ]
  }
 ],
 "metadata": {
  "kernelspec": {
   "display_name": "Python 3 (ipykernel)",
   "language": "python",
   "name": "python3"
  },
  "language_info": {
   "codemirror_mode": {
    "name": "ipython",
    "version": 3
   },
   "file_extension": ".py",
   "mimetype": "text/x-python",
   "name": "python",
   "nbconvert_exporter": "python",
   "pygments_lexer": "ipython3",
   "version": "3.10.9"
  }
 },
 "nbformat": 4,
 "nbformat_minor": 5
}
